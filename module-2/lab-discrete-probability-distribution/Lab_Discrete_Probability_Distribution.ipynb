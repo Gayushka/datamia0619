{
 "cells": [
  {
   "cell_type": "code",
   "execution_count": 2,
   "metadata": {},
   "outputs": [
    {
     "name": "stdout",
     "output_type": "stream",
     "text": [
      "0.5\n"
     ]
    }
   ],
   "source": [
    "def even(x):\n",
    "    return(x % 2 == 0)\n",
    "sample_space = [1, 2, 3, 4, 5, 6]\n",
    "die_sides = len(sample_space)\n",
    "even_roll = len([x for x in sample_space if even(x)])\n",
    "even_probability = even_roll / die_sides\n",
    "print(even_probability)\n"
   ]
  },
  {
   "cell_type": "code",
   "execution_count": null,
   "metadata": {},
   "outputs": [],
   "source": []
  },
  {
   "cell_type": "code",
   "execution_count": null,
   "metadata": {},
   "outputs": [],
   "source": []
  },
  {
   "cell_type": "code",
   "execution_count": null,
   "metadata": {},
   "outputs": [],
   "source": []
  },
  {
   "cell_type": "code",
   "execution_count": null,
   "metadata": {},
   "outputs": [],
   "source": []
  },
  {
   "cell_type": "code",
   "execution_count": null,
   "metadata": {},
   "outputs": [],
   "source": []
  },
  {
   "cell_type": "code",
   "execution_count": null,
   "metadata": {},
   "outputs": [],
   "source": []
  },
  {
   "cell_type": "markdown",
   "metadata": {},
   "source": [
    "# Before your start:\n",
    "\n",
    "    Read the README.md file\n",
    "    Comment as much as you can and use the resources (README.md file)\n",
    "    Happy learning!"
   ]
  },
  {
   "cell_type": "code",
   "execution_count": 61,
   "metadata": {},
   "outputs": [],
   "source": [
    "import math\n",
    "from scipy import stats\n",
    "from scipy.stats import binom\n",
    "import matplotlib.pyplot as plt"
   ]
  },
  {
   "cell_type": "raw",
   "metadata": {},
   "source": [
    "Please note: All calculations must be done in python. \n"
   ]
  },
  {
   "cell_type": "markdown",
   "metadata": {},
   "source": [
    "## Bernoulli's Distribution"
   ]
  },
  {
   "cell_type": "raw",
   "metadata": {},
   "source": [
    "In a basket containing apples and oranges, there are 60 apples and 40 oranges. "
   ]
  },
  {
   "cell_type": "raw",
   "metadata": {},
   "source": [
    "A fruit is picked randomly from the basket. \n",
    "1. What is the probability that the fruit is apple?\n",
    "\n",
    "2. What is the probability that it is an orange?"
   ]
  },
  {
   "cell_type": "code",
   "execution_count": 4,
   "metadata": {},
   "outputs": [],
   "source": [
    "## p = probability that the fruit is an apple \n",
    "p = 60/100\n",
    "## q = probability that the fruit is an orange\n",
    "q = 40/100"
   ]
  },
  {
   "cell_type": "raw",
   "metadata": {},
   "source": [
    "Now we take a random sample of 20 fruits with replacement. \n",
    "What is the probability that the first 5 fruits are apples?"
   ]
  },
  {
   "cell_type": "raw",
   "metadata": {},
   "source": [
    "Hint: (p**5)*(q**15)"
   ]
  },
  {
   "cell_type": "code",
   "execution_count": null,
   "metadata": {},
   "outputs": [],
   "source": []
  },
  {
   "cell_type": "code",
   "execution_count": 5,
   "metadata": {},
   "outputs": [
    {
     "data": {
      "text/plain": [
       "0.07775999999999998"
      ]
     },
     "execution_count": 5,
     "metadata": {},
     "output_type": "execute_result"
    }
   ],
   "source": [
    "##Your solution here\n",
    "p**5"
   ]
  },
  {
   "cell_type": "markdown",
   "metadata": {},
   "source": [
    "## Binomial Distribution"
   ]
  },
  {
   "cell_type": "raw",
   "metadata": {},
   "source": [
    "Similar to the above problem, this time again we pick 20 fruits. \n",
    "What is the probability that this time we picked 5 apples and 15 oranges?\n",
    "Please note that this time we are not asking specifically about the \n",
    "first picks!!"
   ]
  },
  {
   "cell_type": "code",
   "execution_count": 44,
   "metadata": {},
   "outputs": [
    {
     "data": {
      "text/plain": [
       "0.0025889870445753157"
      ]
     },
     "execution_count": 44,
     "metadata": {},
     "output_type": "execute_result"
    }
   ],
   "source": [
    "##Your solutionm here\n",
    "\n",
    "N = 20 \n",
    "P_a = 60/100\n",
    "P_o = 40/100 \n",
    "i_a = 5 \n",
    "i_o = 15\n",
    "\n",
    "nCr_a = math.factorial(N)/(math.factorial(20-i_a)*math.factorial(i_a))\n",
    "nCr_o = math.factorial(N)/(math.factorial(20-i_o)*math.factorial(i_o))\n",
    "\n",
    "a = nCr_a*(P_a**i_a)*((1-P_a)**(N-i_a))\n",
    "o = nCr_o*(P_o**i_o)*((1-P_o)**(N-i_o))\n",
    "\n",
    "a+o"
   ]
  },
  {
   "cell_type": "raw",
   "metadata": {},
   "source": [
    "During the lectures we also talked about CDF \n",
    "Consider the same problem as above except that this time we are \n",
    "interesed in the probability that less than 5 apples were selected. \n",
    "Compute the probability?"
   ]
  },
  {
   "cell_type": "code",
   "execution_count": 62,
   "metadata": {},
   "outputs": [
    {
     "data": {
      "text/plain": [
       "0.001611524643456288"
      ]
     },
     "execution_count": 62,
     "metadata": {},
     "output_type": "execute_result"
    }
   ],
   "source": [
    "##Your solution here \n",
    "b = binom(N,P_a)\n",
    "b.cdf(5)"
   ]
  },
  {
   "cell_type": "raw",
   "metadata": {},
   "source": [
    "Plot the probability distributiom function for the above binomial \n",
    "distribution. \n",
    "Hint: The range of x in a binomial distribution is from 0 to 'n'"
   ]
  },
  {
   "cell_type": "code",
   "execution_count": 80,
   "metadata": {},
   "outputs": [
    {
     "data": {
      "text/plain": [
       "Text(0, 0.5, 'Probability')"
      ]
     },
     "execution_count": 80,
     "metadata": {},
     "output_type": "execute_result"
    },
    {
     "data": {
      "image/png": "[encoded data removed]",
      "text/plain": [
       "<Figure size 432x288 with 1 Axes>"
      ]
     },
     "metadata": {
      "needs_background": "light"
     },
     "output_type": "display_data"
    }
   ],
   "source": [
    "## Your code here\n",
    "x = range(0,N)\n",
    "plt.plot(5, b.cdf(5),'bo')\n",
    "plt.vlines(x, 0, binom.cdf(x, N, P_a), colors='b', lw=5, alpha=0.5)\n",
    "plt.title('CDF')\n",
    "plt.xlabel('# of Apples')\n",
    "plt.ylabel('Probability')"
   ]
  },
  {
   "cell_type": "code",
   "execution_count": 81,
   "metadata": {},
   "outputs": [],
   "source": [
    "#Please label the axes and give a title to the plot \n"
   ]
  },
  {
   "cell_type": "markdown",
   "metadata": {},
   "source": [
    "## Poisson Distribution"
   ]
  },
  {
   "cell_type": "raw",
   "metadata": {},
   "source": [
    "In this problem you are required to use the Math library in python to \n",
    "solve the problem"
   ]
  },
  {
   "cell_type": "raw",
   "metadata": {},
   "source": [
    "In the UEFA champions league tournament, the average number of goals \n",
    "scored in a match is 2.3. What is the probability that the number of \n",
    "goals scored in a match is 5?"
   ]
  },
  {
   "cell_type": "raw",
   "metadata": {},
   "source": [
    "Hint: Use the exp() in the math library \n",
    "Draw a poisson probability distribution plot for the number of goals \n",
    "to be between 0 to 10\n",
    "#Please label the axes and give a title to the plot "
   ]
  },
  {
   "cell_type": "code",
   "execution_count": 2,
   "metadata": {},
   "outputs": [],
   "source": [
    "## Your code here "
   ]
  },
  {
   "cell_type": "code",
   "execution_count": 97,
   "metadata": {},
   "outputs": [],
   "source": [
    "from scipy.stats import poisson\n",
    "import numpy as np"
   ]
  },
  {
   "cell_type": "code",
   "execution_count": 132,
   "metadata": {},
   "outputs": [
    {
     "data": {
      "text/plain": [
       "Text(0, 0.5, 'Probability')"
      ]
     },
     "execution_count": 132,
     "metadata": {},
     "output_type": "execute_result"
    },
    {
     "data": {
      "image/png": "[encoded data removed]",
      "text/plain": [
       "<Figure size 432x288 with 1 Axes>"
      ]
     },
     "metadata": {
      "needs_background": "light"
     },
     "output_type": "display_data"
    }
   ],
   "source": [
    "l = 2.3 \n",
    "dist = poisson(l)\n",
    "x = range(0,10)\n",
    "plt.plot(x, poisson.pmf(x, l), 'bo', ms=8, label='poisson pmf')\n",
    "plt.vlines(x, 0, poisson.pmf(x, l), colors='b', lw=5, alpha=0.5)\n",
    "plt.title('PDF # of Goals')\n",
    "plt.xlabel('# of Goals')\n",
    "plt.ylabel('Probability')"
   ]
  },
  {
   "cell_type": "code",
   "execution_count": 142,
   "metadata": {},
   "outputs": [
    {
     "name": "stdout",
     "output_type": "stream",
     "text": [
      "Probability of scoring 5 goals: 0.053775025581946814\n"
     ]
    }
   ],
   "source": [
    "print('Probability of scoring 5 goals: '+str(poisson.pmf(5,l)))"
   ]
  },
  {
   "cell_type": "raw",
   "metadata": {},
   "source": []
  },
  {
   "cell_type": "code",
   "execution_count": null,
   "metadata": {},
   "outputs": [],
   "source": []
  }
 ],
 "metadata": {
  "kernelspec": {
   "display_name": "Python 3",
   "language": "python",
   "name": "python3"
  },
  "language_info": {
   "codemirror_mode": {
    "name": "ipython",
    "version": 3
   },
   "file_extension": ".py",
   "mimetype": "text/x-python",
   "name": "python",
   "nbconvert_exporter": "python",
   "pygments_lexer": "ipython3",
   "version": "3.7.1"
  }
 },
 "nbformat": 4,
 "nbformat_minor": 2
}
