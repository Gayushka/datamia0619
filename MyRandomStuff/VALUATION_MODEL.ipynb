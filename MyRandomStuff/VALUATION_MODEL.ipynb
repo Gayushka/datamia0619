{
 "cells": [
  {
   "cell_type": "code",
   "execution_count": 1,
   "metadata": {},
   "outputs": [],
   "source": [
    "#Financial Model Project \n",
    "#Author: Tom Pelletier \n",
    "\n",
    "import requests as r\n",
    "import pandas as pd \n",
    "import numpy as np \n",
    "import json\n",
    "import time"
   ]
  },
  {
   "cell_type": "code",
   "execution_count": 2,
   "metadata": {},
   "outputs": [],
   "source": [
    "#Data from API https://financialmodelingprep.com/developer/docs/"
   ]
  },
  {
   "cell_type": "code",
   "execution_count": 4,
   "metadata": {},
   "outputs": [],
   "source": [
    "#Get Jsons of Company Financials\n",
    "company_code = 'AAPL'\n",
    "\n",
    "get_profile = r.get('https://financialmodelingprep.com/api/v3/company/profile/%s' % (company_code)).json()\n",
    "get_Qincome = r.get('https://financialmodelingprep.com/api/v3/financials/income-statement/%s?period=quarter' % (company_code)).json()\n",
    "get_Qbalance = r.get('https://financialmodelingprep.com/api/v3/financials/balance-sheet-statement/%s?period=quarter' % (company_code)).json()\n",
    "get_Qcashflow = r.get('https://financialmodelingprep.com/api/v3/financials/cash-flow-statement/%s?period=quarter' % (company_code)).json()\n",
    "get_Qgrowth = r.get('https://financialmodelingprep.com/api/v3/financial-statement-growth/%s?period=quarter' % (company_code)).json()\n",
    "\n",
    "#all company symbols on NASDAQ\n",
    "get_symbols = r.get('https://financialmodelingprep.com/api/v3/company/stock/list').json()\n",
    "symbol_lst = [get_symbols['symbolsList'][i]['symbol'] for i in range(len(get_symbols['symbolsList']))]\n",
    "\n",
    "all_jsons = [get_Qincome,get_Qbalance,get_Qcashflow,get_Qgrowth]"
   ]
  },
  {
   "cell_type": "code",
   "execution_count": 5,
   "metadata": {},
   "outputs": [],
   "source": [
    "\n",
    "#Convert Json features and label to Pandas DataFrames WRANGLING\n",
    "\n",
    "def json_df():\n",
    "    df_lst = []\n",
    "\n",
    "    #make individual DFs and store them in list\n",
    "    for i in all_jsons: \n",
    "        key = list(i.keys())[1]\n",
    "        df = pd.DataFrame.from_dict(i[key])\n",
    "        df_lst.append(df)\n",
    "    df = pd.DataFrame.from_dict(get_profile)\n",
    "    \n",
    "    #all we want from the profile json is the sector of the company\n",
    "    sector = pd.DataFrame.from_dict(get_profile).T['sector'][1]\n",
    "    \n",
    "    #merge DataFrames into one\n",
    "    df = df_lst[0].merge(df_lst[1])\n",
    "    df = df.merge(df_lst[2])\n",
    "    df = df.merge(df_lst[3])\n",
    "    \n",
    "    #add the sector column\n",
    "    df['Sector'] = sector\n",
    "    \n",
    "    #save and drop date column\n",
    "    quarters = list(df['date'])\n",
    "    df.drop('date',inplace=True,axis=1)\n",
    "    \n",
    "    #convert dtypes to numeric\n",
    "    cols = df.columns\n",
    "    for i in cols: \n",
    "        if i != 'Sector':\n",
    "            df[i] = pd.to_numeric(df[i])\n",
    "            \n",
    "    #deal with the label(price) column:\n",
    "    Mean_Q_P = []\n",
    "    Mean_Q_V = []\n",
    "    \n",
    "    for i in range(len(quarters)): \n",
    "        if i <39:\n",
    "            close_lst = []\n",
    "            vol_lst = []\n",
    "            start = quarters[i] \n",
    "            end = quarters[i+1]\n",
    "            get_price = r.get('https://financialmodelingprep.com/api/v3/historical-price-full/%s?from=%s&to=%s' % (company_code,end,start)).json()\n",
    "\n",
    "            for i in get_price['historical']:\n",
    "                close = i['close']\n",
    "                volume = i['volume']\n",
    "                close_lst.append(close)\n",
    "                vol_lst.append(volume)\n",
    "\n",
    "            Mean_Q_P.append(np.mean(close_lst))\n",
    "            Mean_Q_V.append(np.mean(vol_lst))\n",
    "    #remove nan\n",
    "    filtered_P = [i for i in Mean_Q_P if str(i)!='nan']\n",
    "    filtered_V = [i for i in Mean_Q_V if str(i)!='nan']\n",
    "    df_y = pd.DataFrame([filtered_P,filtered_V]).T\n",
    "    df_y.columns = ['Price','Volume']\n",
    "    #match the shape of both DFs\n",
    "    df = df[df.index <len(df_y)]\n",
    "    df['Volume'] = df_y['Volume']\n",
    "    df_y.drop('Volume',inplace=True,axis=1)\n",
    "    \n",
    "    return df, df_y\n",
    "\n",
    "#get all financials froma all publicly listed companies\n",
    "def Total_Nasdaq_Financials(lst=symbol_lst):\n",
    "    counter = 0\n",
    "    for i in lst:\n",
    "        counter+=1\n",
    "        company_code = i\n",
    "        \n",
    "        if counter == 1:\n",
    "            df, df_y = json_df()\n",
    "        \n",
    "        df_, df_y_ = json_df()\n",
    "        df = pd.concat([df, df_])\n",
    "        df_y = pd.concat([df_y, df_y_])\n",
    "        \n",
    "    return df, df_y\n",
    "        \n",
    "        \n",
    "        \n",
    "        \n",
    "        "
   ]
  },
  {
   "cell_type": "code",
   "execution_count": 6,
   "metadata": {},
   "outputs": [],
   "source": [
    "five = symbol_lst[:10]"
   ]
  },
  {
   "cell_type": "code",
   "execution_count": 7,
   "metadata": {},
   "outputs": [
    {
     "name": "stderr",
     "output_type": "stream",
     "text": [
      "/anaconda3/lib/python3.7/site-packages/numpy/core/fromnumeric.py:3118: RuntimeWarning: Mean of empty slice.\n",
      "  out=out, **kwargs)\n",
      "/anaconda3/lib/python3.7/site-packages/numpy/core/_methods.py:85: RuntimeWarning: invalid value encountered in double_scalars\n",
      "  ret = ret.dtype.type(ret / rcount)\n",
      "/anaconda3/lib/python3.7/site-packages/numpy/core/fromnumeric.py:3118: RuntimeWarning: Mean of empty slice.\n",
      "  out=out, **kwargs)\n",
      "/anaconda3/lib/python3.7/site-packages/numpy/core/_methods.py:85: RuntimeWarning: invalid value encountered in double_scalars\n",
      "  ret = ret.dtype.type(ret / rcount)\n",
      "/anaconda3/lib/python3.7/site-packages/numpy/core/fromnumeric.py:3118: RuntimeWarning: Mean of empty slice.\n",
      "  out=out, **kwargs)\n",
      "/anaconda3/lib/python3.7/site-packages/numpy/core/_methods.py:85: RuntimeWarning: invalid value encountered in double_scalars\n",
      "  ret = ret.dtype.type(ret / rcount)\n",
      "/anaconda3/lib/python3.7/site-packages/numpy/core/fromnumeric.py:3118: RuntimeWarning: Mean of empty slice.\n",
      "  out=out, **kwargs)\n",
      "/anaconda3/lib/python3.7/site-packages/numpy/core/_methods.py:85: RuntimeWarning: invalid value encountered in double_scalars\n",
      "  ret = ret.dtype.type(ret / rcount)\n",
      "/anaconda3/lib/python3.7/site-packages/numpy/core/fromnumeric.py:3118: RuntimeWarning: Mean of empty slice.\n",
      "  out=out, **kwargs)\n",
      "/anaconda3/lib/python3.7/site-packages/numpy/core/_methods.py:85: RuntimeWarning: invalid value encountered in double_scalars\n",
      "  ret = ret.dtype.type(ret / rcount)\n",
      "/anaconda3/lib/python3.7/site-packages/numpy/core/fromnumeric.py:3118: RuntimeWarning: Mean of empty slice.\n",
      "  out=out, **kwargs)\n",
      "/anaconda3/lib/python3.7/site-packages/numpy/core/_methods.py:85: RuntimeWarning: invalid value encountered in double_scalars\n",
      "  ret = ret.dtype.type(ret / rcount)\n",
      "/anaconda3/lib/python3.7/site-packages/numpy/core/fromnumeric.py:3118: RuntimeWarning: Mean of empty slice.\n",
      "  out=out, **kwargs)\n",
      "/anaconda3/lib/python3.7/site-packages/numpy/core/_methods.py:85: RuntimeWarning: invalid value encountered in double_scalars\n",
      "  ret = ret.dtype.type(ret / rcount)\n",
      "/anaconda3/lib/python3.7/site-packages/numpy/core/fromnumeric.py:3118: RuntimeWarning: Mean of empty slice.\n",
      "  out=out, **kwargs)\n",
      "/anaconda3/lib/python3.7/site-packages/numpy/core/_methods.py:85: RuntimeWarning: invalid value encountered in double_scalars\n",
      "  ret = ret.dtype.type(ret / rcount)\n",
      "/anaconda3/lib/python3.7/site-packages/numpy/core/fromnumeric.py:3118: RuntimeWarning: Mean of empty slice.\n",
      "  out=out, **kwargs)\n",
      "/anaconda3/lib/python3.7/site-packages/numpy/core/_methods.py:85: RuntimeWarning: invalid value encountered in double_scalars\n",
      "  ret = ret.dtype.type(ret / rcount)\n",
      "/anaconda3/lib/python3.7/site-packages/numpy/core/fromnumeric.py:3118: RuntimeWarning: Mean of empty slice.\n",
      "  out=out, **kwargs)\n",
      "/anaconda3/lib/python3.7/site-packages/numpy/core/_methods.py:85: RuntimeWarning: invalid value encountered in double_scalars\n",
      "  ret = ret.dtype.type(ret / rcount)\n",
      "/anaconda3/lib/python3.7/site-packages/numpy/core/fromnumeric.py:3118: RuntimeWarning: Mean of empty slice.\n",
      "  out=out, **kwargs)\n",
      "/anaconda3/lib/python3.7/site-packages/numpy/core/_methods.py:85: RuntimeWarning: invalid value encountered in double_scalars\n",
      "  ret = ret.dtype.type(ret / rcount)\n"
     ]
    },
    {
     "name": "stdout",
     "output_type": "stream",
     "text": [
      "22.166338396072387\n"
     ]
    }
   ],
   "source": [
    "t0 = time.time()\n",
    "\n",
    "df, df_y = Total_Nasdaq_Financials(five)\n",
    "\n",
    "t1 = time.time()\n",
    "T = (t1-t0)/10\n",
    "print(T)"
   ]
  },
  {
   "cell_type": "code",
   "execution_count": 8,
   "metadata": {},
   "outputs": [
    {
     "data": {
      "text/plain": [
       "2955.511786142985"
      ]
     },
     "execution_count": 8,
     "metadata": {},
     "output_type": "execute_result"
    }
   ],
   "source": [
    "(T*8000)/60"
   ]
  },
  {
   "cell_type": "code",
   "execution_count": 9,
   "metadata": {},
   "outputs": [
    {
     "data": {
      "text/plain": [
       "49.262433333333334"
      ]
     },
     "execution_count": 9,
     "metadata": {},
     "output_type": "execute_result"
    }
   ],
   "source": [
    "2955.746/60"
   ]
  },
  {
   "cell_type": "code",
   "execution_count": null,
   "metadata": {},
   "outputs": [],
   "source": []
  },
  {
   "cell_type": "code",
   "execution_count": null,
   "metadata": {},
   "outputs": [],
   "source": []
  },
  {
   "cell_type": "code",
   "execution_count": null,
   "metadata": {},
   "outputs": [],
   "source": []
  },
  {
   "cell_type": "code",
   "execution_count": null,
   "metadata": {},
   "outputs": [],
   "source": []
  },
  {
   "cell_type": "code",
   "execution_count": null,
   "metadata": {},
   "outputs": [],
   "source": []
  },
  {
   "cell_type": "code",
   "execution_count": null,
   "metadata": {},
   "outputs": [],
   "source": []
  },
  {
   "cell_type": "code",
   "execution_count": null,
   "metadata": {},
   "outputs": [],
   "source": []
  },
  {
   "cell_type": "code",
   "execution_count": null,
   "metadata": {},
   "outputs": [],
   "source": []
  },
  {
   "cell_type": "code",
   "execution_count": null,
   "metadata": {},
   "outputs": [],
   "source": []
  },
  {
   "cell_type": "code",
   "execution_count": null,
   "metadata": {},
   "outputs": [],
   "source": []
  },
  {
   "cell_type": "code",
   "execution_count": null,
   "metadata": {},
   "outputs": [],
   "source": []
  },
  {
   "cell_type": "code",
   "execution_count": null,
   "metadata": {},
   "outputs": [],
   "source": []
  },
  {
   "cell_type": "code",
   "execution_count": null,
   "metadata": {},
   "outputs": [],
   "source": []
  }
 ],
 "metadata": {
  "kernelspec": {
   "display_name": "Python 3",
   "language": "python",
   "name": "python3"
  },
  "language_info": {
   "codemirror_mode": {
    "name": "ipython",
    "version": 3
   },
   "file_extension": ".py",
   "mimetype": "text/x-python",
   "name": "python",
   "nbconvert_exporter": "python",
   "pygments_lexer": "ipython3",
   "version": "3.7.3"
  }
 },
 "nbformat": 4,
 "nbformat_minor": 2
}
