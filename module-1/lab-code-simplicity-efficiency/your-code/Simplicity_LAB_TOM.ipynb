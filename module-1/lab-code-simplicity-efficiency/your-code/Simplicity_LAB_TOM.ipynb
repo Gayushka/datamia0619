{
 "cells": [
  {
   "cell_type": "code",
   "execution_count": null,
   "metadata": {},
   "outputs": [],
   "source": [
    "###CHALLENGE 1###"
   ]
  },
  {
   "cell_type": "code",
   "execution_count": 7,
   "metadata": {},
   "outputs": [
    {
     "name": "stdout",
     "output_type": "stream",
     "text": [
      "Welcome to this calculator!\n",
      "It can add and subtract ANY NUMBER\n",
      "Please choose your first number: 1\n",
      "What do you want to do? + or _: -\n",
      "Please choose your second number: 1\n",
      "0.0\n",
      "Thanks for using this calculator, goodbye :)\n"
     ]
    }
   ],
   "source": [
    "\n",
    "print('Welcome to this calculator!')\n",
    "print('It can add and subtract ANY NUMBER')\n",
    "a = float(input('Please choose your first number: '))\n",
    "b = input('What do you want to do? + or -: ')\n",
    "c = float(input('Please choose your second number: '))\n",
    "\n",
    "result = None\n",
    "\n",
    "while result == None:\n",
    "    if b == '+': \n",
    "        result = a + c\n",
    "        print(result)\n",
    "    if b == '-': \n",
    "        result = a - c\n",
    "        print(result)\n",
    "\n",
    "\n",
    "print(\"Thanks for using this calculator, goodbye :)\")"
   ]
  },
  {
   "cell_type": "code",
   "execution_count": null,
   "metadata": {},
   "outputs": [],
   "source": []
  },
  {
   "cell_type": "code",
   "execution_count": null,
   "metadata": {},
   "outputs": [],
   "source": [
    "###CHALLENGE 2###"
   ]
  },
  {
   "cell_type": "code",
   "execution_count": 68,
   "metadata": {},
   "outputs": [],
   "source": [
    "import random \n",
    "import string\n",
    "\n",
    "mi = 1\n",
    "ma = 10\n",
    "n =5\n",
    "\n",
    "def RSG(mi,ma,n):\n",
    "    strings = ''\n",
    "    ls = []\n",
    "    for i in range(n):\n",
    "        for i in range(random.randint(mi,ma)):\n",
    "            strings += random.choice((string.ascii_lowercase + string.digits))\n",
    "        ls.append(strings)\n",
    "        strings = ''\n",
    "    return ls\n"
   ]
  },
  {
   "cell_type": "code",
   "execution_count": 72,
   "metadata": {},
   "outputs": [
    {
     "data": {
      "text/plain": [
       "['th1', '5d', 'pelt', '4', '9', 'pvmd', 'zfhz', 'gh4', '8g2', '16y3']"
      ]
     },
     "execution_count": 72,
     "metadata": {},
     "output_type": "execute_result"
    }
   ],
   "source": [
    "RSG(1,5,10)"
   ]
  },
  {
   "cell_type": "code",
   "execution_count": null,
   "metadata": {},
   "outputs": [],
   "source": []
  },
  {
   "cell_type": "code",
   "execution_count": null,
   "metadata": {},
   "outputs": [],
   "source": [
    "###CHALLENGE 3 ###"
   ]
  },
  {
   "cell_type": "code",
   "execution_count": null,
   "metadata": {},
   "outputs": [
    {
     "name": "stdout",
     "output_type": "stream",
     "text": [
      "What is the maximal length of the triangle side? Enter a number: 3456\n"
     ]
    }
   ],
   "source": [
    "\"\"\"\n",
    "You are presented with an integer number larger than 5. Your goal is to identify the longest side\n",
    "possible in a right triangle whose sides are not longer than the number you are given.\n",
    "\n",
    "For example, if you are given the number 15, there are 3 possibilities to compose right triangles:\n",
    "\n",
    "1. [3, 4, 5]\n",
    "2. [6, 8, 10]\n",
    "3. [5, 12, 13]\n",
    "\n",
    "The following function shows one way to solve the problem but the code is not ideal or efficient.\n",
    "Refactor the code based on what you have learned about code simplicity and efficiency.\n",
    "\"\"\"\n",
    "\n",
    "def my_function(X):\n",
    "    solutions = []\n",
    "    for x in range(5, X):\n",
    "        for y in range(4, X):\n",
    "            for z in range(3, X):\n",
    "                if (x*x==y*y+z*z):\n",
    "                  solutions.append(max([x, y, z]))\n",
    "#    m = 0\n",
    "#     for solution in solutions:\n",
    "#         if m < max(solution):\n",
    "#             m = max(solution)\n",
    "    m = max(solutions)\n",
    "    return m\n",
    "\n",
    "X = input(\"What is the maximal length of the triangle side? Enter a number: \")\n",
    "\n",
    "print(\"The longest side possible is \" + str(my_function(int(X))))"
   ]
  },
  {
   "cell_type": "code",
   "execution_count": null,
   "metadata": {},
   "outputs": [],
   "source": []
  },
  {
   "cell_type": "code",
   "execution_count": null,
   "metadata": {},
   "outputs": [],
   "source": []
  },
  {
   "cell_type": "code",
   "execution_count": null,
   "metadata": {},
   "outputs": [],
   "source": []
  },
  {
   "cell_type": "code",
   "execution_count": null,
   "metadata": {},
   "outputs": [],
   "source": []
  }
 ],
 "metadata": {
  "kernelspec": {
   "display_name": "Python 3",
   "language": "python",
   "name": "python3"
  },
  "language_info": {
   "codemirror_mode": {
    "name": "ipython",
    "version": 3
   },
   "file_extension": ".py",
   "mimetype": "text/x-python",
   "name": "python",
   "nbconvert_exporter": "python",
   "pygments_lexer": "ipython3",
   "version": "3.7.1"
  }
 },
 "nbformat": 4,
 "nbformat_minor": 2
}
