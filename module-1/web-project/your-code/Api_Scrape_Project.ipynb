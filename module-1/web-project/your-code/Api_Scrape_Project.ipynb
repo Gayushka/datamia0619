{
 "cells": [
  {
   "cell_type": "code",
   "execution_count": 838,
   "metadata": {},
   "outputs": [],
   "source": [
    "import requests as r\n",
    "import pandas as pd \n",
    "from bs4 import BeautifulSoup as bs\n",
    "import re\n",
    "import time as t\n",
    "from requests import Session\n",
    "import json\n",
    "import datetime"
   ]
  },
  {
   "cell_type": "code",
   "execution_count": null,
   "metadata": {},
   "outputs": [],
   "source": []
  },
  {
   "cell_type": "code",
   "execution_count": 982,
   "metadata": {},
   "outputs": [],
   "source": [
    "def request(url, pages=1): \n",
    "    \n",
    "    url = 'https://www.google.com/search?q=bitcoin&client=firefox-b-1-d&tbm=nws&ei=jWIWXYnSDorZ5gLo8JbIDg&start='+str(pages)+'&sa=N&ved=0ahUKEwjJzJ6K7YzjAhWKrFkKHWi4Bek4WhDy0wMIXA&biw=1320&bih=737&dpr=1.09'\n",
    "    soup_string_list = []\n",
    "    soup_list = []\n",
    "    if pages != 1:\n",
    "        \n",
    "        try:\n",
    "            \n",
    "            for i in range(pages):\n",
    "\n",
    "                pages += (i*10)-10\n",
    "                html = r.get(url, timeout=1).content\n",
    "                soup = bs(html, 'lxml')\n",
    "\n",
    "                soup_string = str(bs(html, 'lxml'))\n",
    "                soup_string_list.append(soup_string)\n",
    "                soup_string = ''.join(soup_string_list)\n",
    "\n",
    "                soup_list.append(soup)\n",
    "                \n",
    "                t.sleep(1)\n",
    "            return soup_string, soup_list\n",
    "        except: \n",
    "            pass\n",
    "        \n",
    "    else:\n",
    "        html = r.get(url, timeout=1).content\n",
    "        soup_string = str(bs(html, 'lxml'))\n",
    "        \n",
    "        soup = bs(html, 'html.parser')\n",
    "        soup.prettify()\n",
    "        \n",
    "        return soup_string, soup\n",
    "    \n",
    "    \n",
    "    \n",
    "def clean_titles(soup_string):\n",
    "    \n",
    "    search = re.findall('\">.{0,200}</a></h3>', soup_string)\n",
    "    sub_1 = list(map(lambda x: re.sub(r\"(</b>)\",r\"\",x), search))\n",
    "    sub_2 = list(map(lambda x: re.sub(r\"(<b>)\",r\"\",x), sub_1))\n",
    "    rstrip = list(map(lambda x: x.strip('</a></h3>'), sub_2))\n",
    "    lstrip = list(map(lambda x: x.lstrip('\">'), rstrip))\n",
    "    \n",
    "    return lstrip\n",
    "\n",
    "\n",
    "def clean_sources(soup): \n",
    "    clean = []\n",
    "    \n",
    "    for i in soup:\n",
    "        search = i.find_all('div', attrs={'class':'slp'})\n",
    "        text = [i.text for i in search]\n",
    "        split = list(map(lambda x: x.split('-'), text))\n",
    "        rstrip = list(map(lambda x: x[0].rstrip(), split))\n",
    "        \n",
    "        clean.append(rstrip)\n",
    "        \n",
    "    flatten = [i for mid in clean for i in mid]\n",
    "    \n",
    "    return flatten\n",
    "\n",
    "\n",
    "\n",
    "def clean_dates(soup): \n",
    "    clean = []\n",
    "    \n",
    "    for i in soup: \n",
    "        search = i.find_all('div', attrs={'class':'slp'})\n",
    "        text = [i.text for i in search]\n",
    "        split = list(map(lambda x: x.split('-'), text))\n",
    "        rstrip = list(map(lambda x: x[1].rstrip(), split))\n",
    "        lstrip = list(map(lambda x : x.lstrip(), rstrip))\n",
    "        \n",
    "        clean.append(lstrip)\n",
    "        \n",
    "    flatten = [i for mid in clean for i in mid]\n",
    "    \n",
    "    return flatten\n",
    "\n",
    "\n",
    "\n",
    "def format_date(series=df_daily['Date']):\n",
    "\n",
    "    unformated = list(series)\n",
    "    formated = []\n",
    "    try: \n",
    "        for i in unformated: \n",
    "            if '2019' in i:  \n",
    "\n",
    "                take = datetime.datetime.strptime(i, '%b %d, %Y')\n",
    "                cut = take.isoformat()[:10]\n",
    "                formated.append(cut)\n",
    "    except:\n",
    "        formated.append(i)\n",
    "\n",
    "    return formated\n",
    "\n",
    "\n",
    "\n",
    "def BTC(start='2019-01-01', end='2019-07-25'):  \n",
    "    \n",
    "    key = 'fcf1f334-f9b2-4acd-8024-3b425c1272a4'\n",
    "    domain = 'https://api.coindesk.com/v1/bpi/historical/close.json?start=%s&end=%s'%(start,end)\n",
    "    JSON = r.get(domain).json()['bpi']\n",
    "    keys = list(JSON)\n",
    "    \n",
    "    df = pd.DataFrame()\n",
    "    df['Date'] = keys\n",
    "    \n",
    "    values = []\n",
    "    for i in keys: \n",
    "        values.append(JSON[i])\n",
    "        \n",
    "    df['Price'] = values\n",
    "    \n",
    "    return df"
   ]
  },
  {
   "cell_type": "code",
   "execution_count": 987,
   "metadata": {},
   "outputs": [
    {
     "ename": "TypeError",
     "evalue": "cannot unpack non-iterable NoneType object",
     "output_type": "error",
     "traceback": [
      "\u001b[0;31m---------------------------------------------------------------------------\u001b[0m",
      "\u001b[0;31mTypeError\u001b[0m                                 Traceback (most recent call last)",
      "\u001b[0;32m<timed exec>\u001b[0m in \u001b[0;36m<module>\u001b[0;34m\u001b[0m\n",
      "\u001b[0;31mTypeError\u001b[0m: cannot unpack non-iterable NoneType object"
     ]
    }
   ],
   "source": [
    "%%time\n",
    "titles, DatesAndSources = request(url,150)"
   ]
  },
  {
   "cell_type": "code",
   "execution_count": 988,
   "metadata": {},
   "outputs": [
    {
     "name": "stdout",
     "output_type": "stream",
     "text": [
      "Titles Length:0\n",
      "Sources Length:0\n",
      "Dates Length:0\n"
     ]
    }
   ],
   "source": [
    "print('Titles Length:%s\\nSources Length:%s\\nDates Length:%s'%(len(clean_titles(titles)),\n",
    "                                                              len(clean_sources(DatesAndSources)),\n",
    "                                                             len(clean_dates(DatesAndSources))))"
   ]
  },
  {
   "cell_type": "code",
   "execution_count": null,
   "metadata": {},
   "outputs": [],
   "source": []
  },
  {
   "cell_type": "code",
   "execution_count": null,
   "metadata": {},
   "outputs": [],
   "source": []
  },
  {
   "cell_type": "code",
   "execution_count": null,
   "metadata": {},
   "outputs": [],
   "source": []
  },
  {
   "cell_type": "code",
   "execution_count": 985,
   "metadata": {},
   "outputs": [],
   "source": [
    "df = pd.DataFrame()"
   ]
  },
  {
   "cell_type": "code",
   "execution_count": 986,
   "metadata": {},
   "outputs": [
    {
     "name": "stderr",
     "output_type": "stream",
     "text": [
      "/anaconda3/lib/python3.7/site-packages/pandas/core/ops.py:1167: FutureWarning: elementwise comparison failed; returning scalar instead, but in the future will perform elementwise comparison\n",
      "  result = method(y)\n"
     ]
    },
    {
     "ename": "TypeError",
     "evalue": "invalid type comparison",
     "output_type": "error",
     "traceback": [
      "\u001b[0;31m---------------------------------------------------------------------------\u001b[0m",
      "\u001b[0;31mTypeError\u001b[0m                                 Traceback (most recent call last)",
      "\u001b[0;32m<ipython-input-986-e53e5408e569>\u001b[0m in \u001b[0;36m<module>\u001b[0;34m\u001b[0m\n\u001b[1;32m      2\u001b[0m \u001b[0mdf\u001b[0m\u001b[0;34m[\u001b[0m\u001b[0;34m'Source'\u001b[0m\u001b[0;34m]\u001b[0m \u001b[0;34m=\u001b[0m \u001b[0mclean_sources\u001b[0m\u001b[0;34m(\u001b[0m\u001b[0mDatesAndSources\u001b[0m\u001b[0;34m)\u001b[0m\u001b[0;34m\u001b[0m\u001b[0;34m\u001b[0m\u001b[0m\n\u001b[1;32m      3\u001b[0m \u001b[0mdf\u001b[0m\u001b[0;34m[\u001b[0m\u001b[0;34m'Date'\u001b[0m\u001b[0;34m]\u001b[0m \u001b[0;34m=\u001b[0m \u001b[0mclean_dates\u001b[0m\u001b[0;34m(\u001b[0m\u001b[0mDatesAndSources\u001b[0m\u001b[0;34m)\u001b[0m\u001b[0;34m\u001b[0m\u001b[0;34m\u001b[0m\u001b[0m\n\u001b[0;32m----> 4\u001b[0;31m \u001b[0mdf\u001b[0m\u001b[0;34m[\u001b[0m\u001b[0mdf\u001b[0m\u001b[0;34m[\u001b[0m\u001b[0;34m'Date'\u001b[0m\u001b[0;34m]\u001b[0m\u001b[0;34m==\u001b[0m\u001b[0;34m'3 days ago'\u001b[0m\u001b[0;34m]\u001b[0m\u001b[0;34m\u001b[0m\u001b[0;34m\u001b[0m\u001b[0m\n\u001b[0m\u001b[1;32m      5\u001b[0m \u001b[0mdf\u001b[0m\u001b[0;34m.\u001b[0m\u001b[0mhead\u001b[0m\u001b[0;34m(\u001b[0m\u001b[0;34m)\u001b[0m\u001b[0;34m\u001b[0m\u001b[0;34m\u001b[0m\u001b[0m\n",
      "\u001b[0;32m/anaconda3/lib/python3.7/site-packages/pandas/core/ops.py\u001b[0m in \u001b[0;36mwrapper\u001b[0;34m(self, other, axis)\u001b[0m\n\u001b[1;32m   1281\u001b[0m \u001b[0;34m\u001b[0m\u001b[0m\n\u001b[1;32m   1282\u001b[0m             \u001b[0;32mwith\u001b[0m \u001b[0mnp\u001b[0m\u001b[0;34m.\u001b[0m\u001b[0merrstate\u001b[0m\u001b[0;34m(\u001b[0m\u001b[0mall\u001b[0m\u001b[0;34m=\u001b[0m\u001b[0;34m'ignore'\u001b[0m\u001b[0;34m)\u001b[0m\u001b[0;34m:\u001b[0m\u001b[0;34m\u001b[0m\u001b[0;34m\u001b[0m\u001b[0m\n\u001b[0;32m-> 1283\u001b[0;31m                 \u001b[0mres\u001b[0m \u001b[0;34m=\u001b[0m \u001b[0mna_op\u001b[0m\u001b[0;34m(\u001b[0m\u001b[0mvalues\u001b[0m\u001b[0;34m,\u001b[0m \u001b[0mother\u001b[0m\u001b[0;34m)\u001b[0m\u001b[0;34m\u001b[0m\u001b[0;34m\u001b[0m\u001b[0m\n\u001b[0m\u001b[1;32m   1284\u001b[0m             \u001b[0;32mif\u001b[0m \u001b[0mis_scalar\u001b[0m\u001b[0;34m(\u001b[0m\u001b[0mres\u001b[0m\u001b[0;34m)\u001b[0m\u001b[0;34m:\u001b[0m\u001b[0;34m\u001b[0m\u001b[0;34m\u001b[0m\u001b[0m\n\u001b[1;32m   1285\u001b[0m                 raise TypeError('Could not compare {typ} type with Series'\n",
      "\u001b[0;32m/anaconda3/lib/python3.7/site-packages/pandas/core/ops.py\u001b[0m in \u001b[0;36mna_op\u001b[0;34m(x, y)\u001b[0m\n\u001b[1;32m   1167\u001b[0m                     \u001b[0mresult\u001b[0m \u001b[0;34m=\u001b[0m \u001b[0mmethod\u001b[0m\u001b[0;34m(\u001b[0m\u001b[0my\u001b[0m\u001b[0;34m)\u001b[0m\u001b[0;34m\u001b[0m\u001b[0;34m\u001b[0m\u001b[0m\n\u001b[1;32m   1168\u001b[0m                 \u001b[0;32mif\u001b[0m \u001b[0mresult\u001b[0m \u001b[0;32mis\u001b[0m \u001b[0mNotImplemented\u001b[0m\u001b[0;34m:\u001b[0m\u001b[0;34m\u001b[0m\u001b[0;34m\u001b[0m\u001b[0m\n\u001b[0;32m-> 1169\u001b[0;31m                     \u001b[0;32mraise\u001b[0m \u001b[0mTypeError\u001b[0m\u001b[0;34m(\u001b[0m\u001b[0;34m\"invalid type comparison\"\u001b[0m\u001b[0;34m)\u001b[0m\u001b[0;34m\u001b[0m\u001b[0;34m\u001b[0m\u001b[0m\n\u001b[0m\u001b[1;32m   1170\u001b[0m             \u001b[0;32melse\u001b[0m\u001b[0;34m:\u001b[0m\u001b[0;34m\u001b[0m\u001b[0;34m\u001b[0m\u001b[0m\n\u001b[1;32m   1171\u001b[0m                 \u001b[0mresult\u001b[0m \u001b[0;34m=\u001b[0m \u001b[0mop\u001b[0m\u001b[0;34m(\u001b[0m\u001b[0mx\u001b[0m\u001b[0;34m,\u001b[0m \u001b[0my\u001b[0m\u001b[0;34m)\u001b[0m\u001b[0;34m\u001b[0m\u001b[0;34m\u001b[0m\u001b[0m\n",
      "\u001b[0;31mTypeError\u001b[0m: invalid type comparison"
     ]
    }
   ],
   "source": [
    "df['Title'] = clean_titles(titles)\n",
    "df['Source'] = clean_sources(DatesAndSources)\n",
    "df['Date'] = clean_dates(DatesAndSources)\n",
    "df[df['Date']=='3 days ago']\n",
    "df.head()"
   ]
  },
  {
   "cell_type": "code",
   "execution_count": null,
   "metadata": {},
   "outputs": [],
   "source": []
  },
  {
   "cell_type": "code",
   "execution_count": null,
   "metadata": {},
   "outputs": [],
   "source": []
  },
  {
   "cell_type": "code",
   "execution_count": null,
   "metadata": {},
   "outputs": [],
   "source": []
  },
  {
   "cell_type": "code",
   "execution_count": null,
   "metadata": {},
   "outputs": [],
   "source": [
    "df_daily.shape"
   ]
  },
  {
   "cell_type": "code",
   "execution_count": null,
   "metadata": {},
   "outputs": [],
   "source": [
    "df_daily = df[df['Date'].str.contains('2019|2018')]"
   ]
  },
  {
   "cell_type": "code",
   "execution_count": 928,
   "metadata": {},
   "outputs": [],
   "source": []
  },
  {
   "cell_type": "code",
   "execution_count": null,
   "metadata": {},
   "outputs": [],
   "source": [
    "print(len(df_daily['Date']))\n",
    "print(len(format_date()))"
   ]
  },
  {
   "cell_type": "code",
   "execution_count": null,
   "metadata": {},
   "outputs": [],
   "source": [
    "df_daily['Date'] = format_date()"
   ]
  },
  {
   "cell_type": "code",
   "execution_count": null,
   "metadata": {},
   "outputs": [],
   "source": [
    "df_daily.head()"
   ]
  },
  {
   "cell_type": "code",
   "execution_count": null,
   "metadata": {},
   "outputs": [],
   "source": []
  },
  {
   "cell_type": "code",
   "execution_count": null,
   "metadata": {},
   "outputs": [],
   "source": []
  },
  {
   "cell_type": "code",
   "execution_count": null,
   "metadata": {},
   "outputs": [],
   "source": [
    "mini = df_daily['Date'].min()\n",
    "maxi = df_daily['Date'].max()\n"
   ]
  },
  {
   "cell_type": "code",
   "execution_count": 962,
   "metadata": {},
   "outputs": [],
   "source": [
    "join_df = BTC(mini, maxi).join(df_daily.set_index('Date'),on='Date')"
   ]
  },
  {
   "cell_type": "code",
   "execution_count": 964,
   "metadata": {},
   "outputs": [
    {
     "data": {
      "text/plain": [
       "(332, 4)"
      ]
     },
     "execution_count": 964,
     "metadata": {},
     "output_type": "execute_result"
    }
   ],
   "source": [
    "join_df.shape"
   ]
  },
  {
   "cell_type": "code",
   "execution_count": 979,
   "metadata": {},
   "outputs": [],
   "source": [
    "unique_df = join_df.drop_duplicates('Title').reset_index()"
   ]
  },
  {
   "cell_type": "code",
   "execution_count": 981,
   "metadata": {},
   "outputs": [
    {
     "data": {
      "text/html": [
       "<div>\n",
       "<style scoped>\n",
       "    .dataframe tbody tr th:only-of-type {\n",
       "        vertical-align: middle;\n",
       "    }\n",
       "\n",
       "    .dataframe tbody tr th {\n",
       "        vertical-align: top;\n",
       "    }\n",
       "\n",
       "    .dataframe thead th {\n",
       "        text-align: right;\n",
       "    }\n",
       "</style>\n",
       "<table border=\"1\" class=\"dataframe\">\n",
       "  <thead>\n",
       "    <tr style=\"text-align: right;\">\n",
       "      <th></th>\n",
       "      <th>index</th>\n",
       "      <th>Date</th>\n",
       "      <th>Price</th>\n",
       "      <th>Title</th>\n",
       "      <th>Source</th>\n",
       "    </tr>\n",
       "  </thead>\n",
       "  <tbody>\n",
       "    <tr>\n",
       "      <th>0</th>\n",
       "      <td>0</td>\n",
       "      <td>2019-05-30</td>\n",
       "      <td>8273.0117</td>\n",
       "      <td>How The Super-Rich Are Buying Up Bitcoin</td>\n",
       "      <td>Forbes</td>\n",
       "    </tr>\n",
       "    <tr>\n",
       "      <th>1</th>\n",
       "      <td>1</td>\n",
       "      <td>2019-05-31</td>\n",
       "      <td>8544.9700</td>\n",
       "      <td>NaN</td>\n",
       "      <td>NaN</td>\n",
       "    </tr>\n",
       "    <tr>\n",
       "      <th>2</th>\n",
       "      <td>10</td>\n",
       "      <td>2019-06-09</td>\n",
       "      <td>7634.6483</td>\n",
       "      <td>A Bitcoin 'Millionaire' Is Planning To 'Resurr...</td>\n",
       "      <td>Forbes</td>\n",
       "    </tr>\n",
       "    <tr>\n",
       "      <th>3</th>\n",
       "      <td>19</td>\n",
       "      <td>2019-06-18</td>\n",
       "      <td>9083.8167</td>\n",
       "      <td>'Bitcoin is easily going to take out its all-t...</td>\n",
       "      <td>CNBC</td>\n",
       "    </tr>\n",
       "    <tr>\n",
       "      <th>4</th>\n",
       "      <td>20</td>\n",
       "      <td>2019-06-19</td>\n",
       "      <td>9288.5367</td>\n",
       "      <td>'Hard Core Fund' Collects 50 BTC to Support Bi...</td>\n",
       "      <td>CoinDesk</td>\n",
       "    </tr>\n",
       "    <tr>\n",
       "      <th>5</th>\n",
       "      <td>21</td>\n",
       "      <td>2019-06-20</td>\n",
       "      <td>9539.7883</td>\n",
       "      <td>Bitcoin Price Breaches $9.6K to Hit 400-Day Hig</td>\n",
       "      <td>CoinDesk</td>\n",
       "    </tr>\n",
       "    <tr>\n",
       "      <th>6</th>\n",
       "      <td>22</td>\n",
       "      <td>2019-06-21</td>\n",
       "      <td>10232.9167</td>\n",
       "      <td>What are the options for an Indian investor if...</td>\n",
       "      <td>Quartz</td>\n",
       "    </tr>\n",
       "  </tbody>\n",
       "</table>\n",
       "</div>"
      ],
      "text/plain": [
       "   index        Date       Price  \\\n",
       "0      0  2019-05-30   8273.0117   \n",
       "1      1  2019-05-31   8544.9700   \n",
       "2     10  2019-06-09   7634.6483   \n",
       "3     19  2019-06-18   9083.8167   \n",
       "4     20  2019-06-19   9288.5367   \n",
       "5     21  2019-06-20   9539.7883   \n",
       "6     22  2019-06-21  10232.9167   \n",
       "\n",
       "                                               Title    Source  \n",
       "0           How The Super-Rich Are Buying Up Bitcoin    Forbes  \n",
       "1                                                NaN       NaN  \n",
       "2  A Bitcoin 'Millionaire' Is Planning To 'Resurr...    Forbes  \n",
       "3  'Bitcoin is easily going to take out its all-t...      CNBC  \n",
       "4  'Hard Core Fund' Collects 50 BTC to Support Bi...  CoinDesk  \n",
       "5    Bitcoin Price Breaches $9.6K to Hit 400-Day Hig  CoinDesk  \n",
       "6  What are the options for an Indian investor if...    Quartz  "
      ]
     },
     "execution_count": 981,
     "metadata": {},
     "output_type": "execute_result"
    }
   ],
   "source": [
    "unique_df"
   ]
  },
  {
   "cell_type": "code",
   "execution_count": 936,
   "metadata": {},
   "outputs": [
    {
     "data": {
      "text/plain": [
       "pandas.core.frame.DataFrame"
      ]
     },
     "execution_count": 936,
     "metadata": {},
     "output_type": "execute_result"
    }
   ],
   "source": []
  },
  {
   "cell_type": "code",
   "execution_count": 536,
   "metadata": {},
   "outputs": [],
   "source": []
  },
  {
   "cell_type": "code",
   "execution_count": null,
   "metadata": {},
   "outputs": [],
   "source": []
  },
  {
   "cell_type": "code",
   "execution_count": 813,
   "metadata": {},
   "outputs": [],
   "source": []
  },
  {
   "cell_type": "code",
   "execution_count": null,
   "metadata": {},
   "outputs": [],
   "source": []
  },
  {
   "cell_type": "code",
   "execution_count": null,
   "metadata": {},
   "outputs": [],
   "source": []
  },
  {
   "cell_type": "code",
   "execution_count": null,
   "metadata": {},
   "outputs": [],
   "source": []
  },
  {
   "cell_type": "code",
   "execution_count": null,
   "metadata": {},
   "outputs": [],
   "source": []
  },
  {
   "cell_type": "code",
   "execution_count": null,
   "metadata": {},
   "outputs": [],
   "source": []
  },
  {
   "cell_type": "code",
   "execution_count": null,
   "metadata": {},
   "outputs": [],
   "source": []
  },
  {
   "cell_type": "code",
   "execution_count": null,
   "metadata": {},
   "outputs": [],
   "source": []
  },
  {
   "cell_type": "code",
   "execution_count": null,
   "metadata": {},
   "outputs": [],
   "source": []
  },
  {
   "cell_type": "code",
   "execution_count": null,
   "metadata": {},
   "outputs": [],
   "source": []
  }
 ],
 "metadata": {
  "kernelspec": {
   "display_name": "Python 3",
   "language": "python",
   "name": "python3"
  },
  "language_info": {
   "codemirror_mode": {
    "name": "ipython",
    "version": 3
   },
   "file_extension": ".py",
   "mimetype": "text/x-python",
   "name": "python",
   "nbconvert_exporter": "python",
   "pygments_lexer": "ipython3",
   "version": "3.7.1"
  }
 },
 "nbformat": 4,
 "nbformat_minor": 2
}
